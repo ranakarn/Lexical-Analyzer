{
 "cells": [
  {
   "cell_type": "code",
   "execution_count": 17,
   "metadata": {},
   "outputs": [
    {
     "name": "stdout",
     "output_type": "stream",
     "text": [
      "[['DATATYPE', 'int'], ['IDENTIFIER', 'a'], ['OPERATOR', '='], ['INTEGER', '10'], ['Line Break', ';'], ['DATATYPE', 'int'], ['IDENTIFIER', 'b'], ['OPERATOR', '='], ['INTEGER', '20'], ['Line Break', ';'], ['IDENTIFIER', 'print(a,b)']]\n"
     ]
    }
   ],
   "source": [
    "import re                                 \n",
    "\n",
    "tokens = []                               \n",
    "code = 'int a = 10 ; int b = 20 ; print(a,b) '.split()\n",
    "\n",
    "\n",
    "for word in code:\n",
    "    \n",
    "    \n",
    "    if word in ['str', 'int', 'bool']: \n",
    "        tokens.append(['DATATYPE', word])\n",
    "    \n",
    "    \n",
    "    elif re.match(\"[a-z]\", word) or re.match(\"[A-Z]\", word):\n",
    "        tokens.append(['IDENTIFIER', word])\n",
    "    \n",
    "    \n",
    "    elif word in '*-/+%=':\n",
    "        tokens.append(['OPERATOR', word])\n",
    "    \n",
    "    elif re.match(\";\", word):\n",
    "        tokens.append(['Line Break', word])\n",
    "        \n",
    "    elif re.match(\".[0-9]\", word):\n",
    "        if word[len(word) - 1] == ';': \n",
    "            tokens.append([\"INTEGER\", word[:-1]])\n",
    "            tokens.append(['END_STATEMENT', ';'])\n",
    "        else: \n",
    "            tokens.append([\"INTEGER\", word])\n",
    "\n",
    "print(tokens) "
   ]
  },
  {
   "cell_type": "code",
   "execution_count": null,
   "metadata": {},
   "outputs": [],
   "source": []
  },
  {
   "cell_type": "code",
   "execution_count": null,
   "metadata": {},
   "outputs": [],
   "source": []
  }
 ],
 "metadata": {
  "kernelspec": {
   "display_name": "Python 3",
   "language": "python",
   "name": "python3"
  },
  "language_info": {
   "codemirror_mode": {
    "name": "ipython",
    "version": 3
   },
   "file_extension": ".py",
   "mimetype": "text/x-python",
   "name": "python",
   "nbconvert_exporter": "python",
   "pygments_lexer": "ipython3",
   "version": "3.7.3"
  }
 },
 "nbformat": 4,
 "nbformat_minor": 2
}
